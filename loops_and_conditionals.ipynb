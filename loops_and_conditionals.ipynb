{
 "cells": [
  {
   "cell_type": "code",
   "execution_count": 66,
   "id": "59d0d80b-b1fa-4336-82df-6eb020b7f5f1",
   "metadata": {},
   "outputs": [
    {
     "name": "stdout",
     "output_type": "stream",
     "text": [
      "too high\n"
     ]
    }
   ],
   "source": [
    "# 4.1 Guess Game\n",
    "\n",
    "secret = 8\n",
    "guess = 9\n",
    "\n",
    "if guess < secret: \n",
    "    print ('too low') \n",
    "\n",
    "elif guess > secret:\n",
    "    print('too high')\n",
    "\n",
    "else: \n",
    "    print('just right')\n"
   ]
  },
  {
   "cell_type": "code",
   "execution_count": 68,
   "id": "5c7f86b6-6178-4b71-96a0-fb86c32c002f",
   "metadata": {},
   "outputs": [
    {
     "name": "stdout",
     "output_type": "stream",
     "text": [
      "pumpkin\n"
     ]
    }
   ],
   "source": [
    "# 4.2 Matching \n",
    "\n",
    "small = False \n",
    "green = False\n",
    "\n",
    "if small and green: \n",
    "    print('pea')\n",
    "\n",
    "elif small and not green: \n",
    "    print('cherry')\n",
    "    \n",
    "elif not small and green:\n",
    "    print('watermelon')\n",
    "    \n",
    "else: \n",
    "    print('pumpkin')"
   ]
  },
  {
   "cell_type": "code",
   "execution_count": 70,
   "id": "596b3a44-1893-4576-a45b-878ed96659f0",
   "metadata": {},
   "outputs": [
    {
     "name": "stdout",
     "output_type": "stream",
     "text": [
      "3\n",
      "2\n",
      "1\n",
      "0\n"
     ]
    }
   ],
   "source": [
    "# 6.1 loop\n",
    "for value in [3,2,1,0]:\n",
    "    print(value)"
   ]
  },
  {
   "cell_type": "code",
   "execution_count": 72,
   "id": "99572c04-8346-4dc0-91dd-1d25ec93aae3",
   "metadata": {},
   "outputs": [
    {
     "name": "stdout",
     "output_type": "stream",
     "text": [
      "too low\n",
      "too low\n",
      "too low\n",
      "too low\n",
      "too low\n",
      "too low\n",
      "found it!\n"
     ]
    }
   ],
   "source": [
    "# 6.2 While Loop \n",
    "\n",
    "guess_me = 7\n",
    "number = 1\n",
    "\n",
    "while True:\n",
    "    if number < guess_me:\n",
    "        print('too low')\n",
    "    \n",
    "    elif number == guess_me: \n",
    "        print('found it!')\n",
    "        break\n",
    "    else: \n",
    "        print('oops')\n",
    "        break\n",
    "    number += 1"
   ]
  },
  {
   "cell_type": "code",
   "execution_count": 74,
   "id": "614093fe-d0c0-41b4-bc8f-beb86063ed1f",
   "metadata": {},
   "outputs": [
    {
     "name": "stdout",
     "output_type": "stream",
     "text": [
      "too low\n",
      "too low\n",
      "too low\n",
      "too low\n",
      "too low\n",
      "found it!\n"
     ]
    }
   ],
   "source": [
    "# 6.3 For loop\n",
    "\n",
    "guess_me = 5\n",
    "\n",
    "for number in range(10): \n",
    "    if number < guess_me: \n",
    "        print('too low')\n",
    "    elif number == guess_me: \n",
    "        print('found it!')\n",
    "        break\n",
    "    else: \n",
    "        print('oops')\n",
    "        break"
   ]
  }
 ],
 "metadata": {
  "kernelspec": {
   "display_name": "Python 3 (ipykernel)",
   "language": "python",
   "name": "python3"
  },
  "language_info": {
   "codemirror_mode": {
    "name": "ipython",
    "version": 3
   },
   "file_extension": ".py",
   "mimetype": "text/x-python",
   "name": "python",
   "nbconvert_exporter": "python",
   "pygments_lexer": "ipython3",
   "version": "3.12.4"
  }
 },
 "nbformat": 4,
 "nbformat_minor": 5
}
